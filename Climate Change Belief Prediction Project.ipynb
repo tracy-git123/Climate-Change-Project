{
 "cells": [
  {
   "cell_type": "code",
   "execution_count": 4,
   "metadata": {
    "execution": {
     "iopub.execute_input": "2020-10-16T03:57:19.870639Z",
     "iopub.status.busy": "2020-10-16T03:57:19.869791Z",
     "iopub.status.idle": "2020-10-16T03:57:21.811965Z",
     "shell.execute_reply": "2020-10-16T03:57:21.811157Z"
    },
    "papermill": {
     "duration": 1.988882,
     "end_time": "2020-10-16T03:57:21.812087",
     "exception": false,
     "start_time": "2020-10-16T03:57:19.823205",
     "status": "completed"
    },
    "tags": []
   },
   "outputs": [],
   "source": [
    "import pandas as pd\n",
    "import numpy as np\n",
    "import nltk\n",
    "import string\n",
    "import re\n",
    "from sklearn.feature_extraction.text import TfidfVectorizer\n",
    "from sklearn.linear_model import LogisticRegression\n",
    "from sklearn.naive_bayes import MultinomialNB\n",
    "from sklearn.ensemble import RandomForestClassifier, AdaBoostClassifier\n",
    "from sklearn.svm import LinearSVC\n",
    "from sklearn.model_selection import train_test_split\n",
    "from sklearn.naive_bayes import MultinomialNB\n",
    "from nltk.stem import WordNetLemmatizer\n",
    "from nltk.corpus import stopwords\n",
    "\n",
    "from sklearn.metrics import f1_score\n",
    "\n",
    "import seaborn as sns\n",
    "import matplotlib.pyplot as plt\n",
    "%matplotlib inline"
   ]
  },
  {
   "cell_type": "markdown",
   "metadata": {
    "papermill": {
     "duration": 0.03205,
     "end_time": "2020-10-16T03:57:21.876508",
     "exception": false,
     "start_time": "2020-10-16T03:57:21.844458",
     "status": "completed"
    },
    "tags": []
   },
   "source": [
    "# **Load and clean data**"
   ]
  },
  {
   "cell_type": "code",
   "execution_count": 6,
   "metadata": {
    "_cell_guid": "79c7e3d0-c299-4dcb-8224-4455121ee9b0",
    "_uuid": "d629ff2d2480ee46fbb7e2d37f6b5fab8052498a",
    "execution": {
     "iopub.execute_input": "2020-10-16T03:57:21.952112Z",
     "iopub.status.busy": "2020-10-16T03:57:21.948585Z",
     "iopub.status.idle": "2020-10-16T03:57:22.167376Z",
     "shell.execute_reply": "2020-10-16T03:57:22.166496Z"
    },
    "papermill": {
     "duration": 0.259302,
     "end_time": "2020-10-16T03:57:22.167511",
     "exception": false,
     "start_time": "2020-10-16T03:57:21.908209",
     "status": "completed"
    },
    "tags": []
   },
   "outputs": [],
   "source": [
    "df = pd.read_csv('/Users/tracy/Documents/06_Data Science/climate change dataset/train.csv')\n",
    "df_test = pd.read_csv('/Users/tracy/Documents/06_Data Science/climate change dataset/test.csv')"
   ]
  },
  {
   "cell_type": "code",
   "execution_count": 71,
   "metadata": {
    "execution": {
     "iopub.execute_input": "2020-10-16T03:57:22.247680Z",
     "iopub.status.busy": "2020-10-16T03:57:22.246500Z",
     "iopub.status.idle": "2020-10-16T03:57:22.256279Z",
     "shell.execute_reply": "2020-10-16T03:57:22.255632Z"
    },
    "papermill": {
     "duration": 0.055908,
     "end_time": "2020-10-16T03:57:22.256413",
     "exception": false,
     "start_time": "2020-10-16T03:57:22.200505",
     "status": "completed"
    },
    "tags": []
   },
   "outputs": [
    {
     "data": {
      "text/html": [
       "<div>\n",
       "<style scoped>\n",
       "    .dataframe tbody tr th:only-of-type {\n",
       "        vertical-align: middle;\n",
       "    }\n",
       "\n",
       "    .dataframe tbody tr th {\n",
       "        vertical-align: top;\n",
       "    }\n",
       "\n",
       "    .dataframe thead th {\n",
       "        text-align: right;\n",
       "    }\n",
       "</style>\n",
       "<table border=\"1\" class=\"dataframe\">\n",
       "  <thead>\n",
       "    <tr style=\"text-align: right;\">\n",
       "      <th></th>\n",
       "      <th>sentiment</th>\n",
       "      <th>message</th>\n",
       "      <th>tweetid</th>\n",
       "    </tr>\n",
       "  </thead>\n",
       "  <tbody>\n",
       "    <tr>\n",
       "      <th>0</th>\n",
       "      <td>1</td>\n",
       "      <td>PolySciMajor EPA chief doesn't think carbon di...</td>\n",
       "      <td>625221</td>\n",
       "    </tr>\n",
       "    <tr>\n",
       "      <th>1</th>\n",
       "      <td>1</td>\n",
       "      <td>It's not like we lack evidence of anthropogeni...</td>\n",
       "      <td>126103</td>\n",
       "    </tr>\n",
       "    <tr>\n",
       "      <th>2</th>\n",
       "      <td>2</td>\n",
       "      <td>RT @RawStory: Researchers say we have three ye...</td>\n",
       "      <td>698562</td>\n",
       "    </tr>\n",
       "    <tr>\n",
       "      <th>3</th>\n",
       "      <td>1</td>\n",
       "      <td>#TodayinMaker# WIRED : 2016 was a pivotal year...</td>\n",
       "      <td>573736</td>\n",
       "    </tr>\n",
       "    <tr>\n",
       "      <th>4</th>\n",
       "      <td>1</td>\n",
       "      <td>RT @SoyNovioDeTodas: It's 2016, and a racist, ...</td>\n",
       "      <td>466954</td>\n",
       "    </tr>\n",
       "  </tbody>\n",
       "</table>\n",
       "</div>"
      ],
      "text/plain": [
       "   sentiment                                            message  tweetid\n",
       "0          1  PolySciMajor EPA chief doesn't think carbon di...   625221\n",
       "1          1  It's not like we lack evidence of anthropogeni...   126103\n",
       "2          2  RT @RawStory: Researchers say we have three ye...   698562\n",
       "3          1  #TodayinMaker# WIRED : 2016 was a pivotal year...   573736\n",
       "4          1  RT @SoyNovioDeTodas: It's 2016, and a racist, ...   466954"
      ]
     },
     "execution_count": 71,
     "metadata": {},
     "output_type": "execute_result"
    }
   ],
   "source": [
    "df.head(5)"
   ]
  },
  {
   "cell_type": "code",
   "execution_count": 5,
   "metadata": {
    "execution": {
     "iopub.execute_input": "2020-10-16T03:57:22.328148Z",
     "iopub.status.busy": "2020-10-16T03:57:22.327268Z",
     "iopub.status.idle": "2020-10-16T03:57:22.331780Z",
     "shell.execute_reply": "2020-10-16T03:57:22.331050Z"
    },
    "papermill": {
     "duration": 0.042628,
     "end_time": "2020-10-16T03:57:22.331934",
     "exception": false,
     "start_time": "2020-10-16T03:57:22.289306",
     "status": "completed"
    },
    "tags": []
   },
   "outputs": [
    {
     "data": {
      "text/plain": [
       "15819"
      ]
     },
     "execution_count": 5,
     "metadata": {},
     "output_type": "execute_result"
    }
   ],
   "source": [
    "len(df) #number of tweets"
   ]
  },
  {
   "cell_type": "code",
   "execution_count": 6,
   "metadata": {
    "execution": {
     "iopub.execute_input": "2020-10-16T03:57:22.410627Z",
     "iopub.status.busy": "2020-10-16T03:57:22.406678Z",
     "iopub.status.idle": "2020-10-16T03:57:22.415688Z",
     "shell.execute_reply": "2020-10-16T03:57:22.414928Z"
    },
    "papermill": {
     "duration": 0.050601,
     "end_time": "2020-10-16T03:57:22.415835",
     "exception": false,
     "start_time": "2020-10-16T03:57:22.365234",
     "status": "completed"
    },
    "tags": []
   },
   "outputs": [
    {
     "data": {
      "text/plain": [
       " 1    8530\n",
       " 2    3640\n",
       " 0    2353\n",
       "-1    1296\n",
       "Name: sentiment, dtype: int64"
      ]
     },
     "execution_count": 6,
     "metadata": {},
     "output_type": "execute_result"
    }
   ],
   "source": [
    "df.sentiment.value_counts() #distribution of pro to anti sentiments *BALANCE"
   ]
  },
  {
   "cell_type": "code",
   "execution_count": 15,
   "metadata": {},
   "outputs": [
    {
     "data": {
      "text/plain": [
       "<seaborn.axisgrid.FacetGrid at 0x7fce5c0f9d00>"
      ]
     },
     "execution_count": 15,
     "metadata": {},
     "output_type": "execute_result"
    },
    {
     "data": {
      "image/png": "[encoded data removed]",
      "text/plain": [
       "<Figure size 360x360 with 1 Axes>"
      ]
     },
     "metadata": {
      "needs_background": "light"
     },
     "output_type": "display_data"
    }
   ],
   "source": [
    "sns.displot(df, x='sentiment')"
   ]
  },
  {
   "cell_type": "markdown",
   "metadata": {},
   "source": [
    "Normalise tweets to train model with"
   ]
  },
  {
   "cell_type": "code",
   "execution_count": 17,
   "metadata": {
    "execution": {
     "iopub.execute_input": "2020-10-16T03:57:22.489474Z",
     "iopub.status.busy": "2020-10-16T03:57:22.488421Z",
     "iopub.status.idle": "2020-10-16T03:57:22.490903Z",
     "shell.execute_reply": "2020-10-16T03:57:22.491601Z"
    },
    "papermill": {
     "duration": 0.042029,
     "end_time": "2020-10-16T03:57:22.491752",
     "exception": false,
     "start_time": "2020-10-16T03:57:22.449723",
     "status": "completed"
    },
    "tags": []
   },
   "outputs": [],
   "source": [
    "from sklearn.utils import resample"
   ]
  },
  {
   "cell_type": "code",
   "execution_count": 18,
   "metadata": {
    "execution": {
     "iopub.execute_input": "2020-10-16T03:57:22.571486Z",
     "iopub.status.busy": "2020-10-16T03:57:22.570502Z",
     "iopub.status.idle": "2020-10-16T03:57:22.598174Z",
     "shell.execute_reply": "2020-10-16T03:57:22.597337Z"
    },
    "papermill": {
     "duration": 0.068734,
     "end_time": "2020-10-16T03:57:22.598299",
     "exception": false,
     "start_time": "2020-10-16T03:57:22.529565",
     "status": "completed"
    },
    "tags": []
   },
   "outputs": [],
   "source": [
    "positive1 = df[df['sentiment']==1]\n",
    "news2 = df[df['sentiment']==2]\n",
    "neutral0 = df[df['sentiment']==0]\n",
    "negative1 = df[df['sentiment']==-1]\n"
   ]
  },
  {
   "cell_type": "code",
   "execution_count": 19,
   "metadata": {
    "execution": {
     "iopub.execute_input": "2020-10-16T03:57:22.684023Z",
     "iopub.status.busy": "2020-10-16T03:57:22.682938Z",
     "iopub.status.idle": "2020-10-16T03:57:22.685687Z",
     "shell.execute_reply": "2020-10-16T03:57:22.686238Z"
    },
    "papermill": {
     "duration": 0.053761,
     "end_time": "2020-10-16T03:57:22.686397",
     "exception": false,
     "start_time": "2020-10-16T03:57:22.632636",
     "status": "completed"
    },
    "tags": []
   },
   "outputs": [],
   "source": [
    "# Downsample majority\n",
    "positive1_downsampled = resample(positive1,\n",
    "                          replace=False, # sample without replacement (no need to duplicate observations)\n",
    "                          n_samples=len(negative1), # match number in minority class\n",
    "                          random_state=27) # reproducible results\n",
    "news2_downsampled = resample(news2,\n",
    "                          replace=False, # sample without replacement (no need to duplicate observations)\n",
    "                          n_samples=len(negative1), # match number in minority class\n",
    "                          random_state=27) # reproducible results\n",
    "neutral0_downsampled = resample(neutral0,\n",
    "                          replace=False, # sample without replacement (no need to duplicate observations)\n",
    "                          n_samples=len(negative1), # match number in minority class\n",
    "                          random_state=27) # reproducible results\n",
    "\n",
    "\n",
    "# Combine downsampled majority class with minority class\n",
    "df_d = pd.concat([positive1_downsampled,news2_downsampled, neutral0_downsampled, negative1])\n",
    "\n"
   ]
  },
  {
   "cell_type": "code",
   "execution_count": 20,
   "metadata": {
    "execution": {
     "iopub.execute_input": "2020-10-16T03:57:22.760740Z",
     "iopub.status.busy": "2020-10-16T03:57:22.760011Z",
     "iopub.status.idle": "2020-10-16T03:57:22.767295Z",
     "shell.execute_reply": "2020-10-16T03:57:22.766538Z"
    },
    "papermill": {
     "duration": 0.046532,
     "end_time": "2020-10-16T03:57:22.767421",
     "exception": false,
     "start_time": "2020-10-16T03:57:22.720889",
     "status": "completed"
    },
    "tags": []
   },
   "outputs": [
    {
     "data": {
      "text/plain": [
       "-1    1296\n",
       " 2    1296\n",
       " 1    1296\n",
       " 0    1296\n",
       "Name: sentiment, dtype: int64"
      ]
     },
     "execution_count": 20,
     "metadata": {},
     "output_type": "execute_result"
    }
   ],
   "source": [
    "df_d.sentiment.value_counts() #distribution of sentiments"
   ]
  },
  {
   "cell_type": "code",
   "execution_count": 51,
   "metadata": {},
   "outputs": [
    {
     "data": {
      "text/plain": [
       "<seaborn.axisgrid.FacetGrid at 0x7fce5c18dc40>"
      ]
     },
     "execution_count": 51,
     "metadata": {},
     "output_type": "execute_result"
    },
    {
     "data": {
      "image/png": "[encoded data removed]",
      "text/plain": [
       "<Figure size 360x360 with 1 Axes>"
      ]
     },
     "metadata": {
      "needs_background": "light"
     },
     "output_type": "display_data"
    }
   ],
   "source": [
    "sns.displot(df_d, x='sentiment')"
   ]
  },
  {
   "cell_type": "code",
   "execution_count": 23,
   "metadata": {
    "execution": {
     "iopub.execute_input": "2020-10-16T03:57:22.848904Z",
     "iopub.status.busy": "2020-10-16T03:57:22.847873Z",
     "iopub.status.idle": "2020-10-16T03:57:22.852221Z",
     "shell.execute_reply": "2020-10-16T03:57:22.852732Z"
    },
    "papermill": {
     "duration": 0.050178,
     "end_time": "2020-10-16T03:57:22.852911",
     "exception": false,
     "start_time": "2020-10-16T03:57:22.802733",
     "status": "completed"
    },
    "tags": []
   },
   "outputs": [
    {
     "data": {
      "text/html": [
       "<div>\n",
       "<style scoped>\n",
       "    .dataframe tbody tr th:only-of-type {\n",
       "        vertical-align: middle;\n",
       "    }\n",
       "\n",
       "    .dataframe tbody tr th {\n",
       "        vertical-align: top;\n",
       "    }\n",
       "\n",
       "    .dataframe thead th {\n",
       "        text-align: right;\n",
       "    }\n",
       "</style>\n",
       "<table border=\"1\" class=\"dataframe\">\n",
       "  <thead>\n",
       "    <tr style=\"text-align: right;\">\n",
       "      <th></th>\n",
       "      <th>sentiment</th>\n",
       "      <th>message</th>\n",
       "      <th>tweetid</th>\n",
       "    </tr>\n",
       "  </thead>\n",
       "  <tbody>\n",
       "    <tr>\n",
       "      <th>11729</th>\n",
       "      <td>1</td>\n",
       "      <td>RT @ubcforestry: Funding from @GenomeBC will s...</td>\n",
       "      <td>977844</td>\n",
       "    </tr>\n",
       "    <tr>\n",
       "      <th>8308</th>\n",
       "      <td>1</td>\n",
       "      <td>@YadiMoIina gag orders? Sure. He's definitely ...</td>\n",
       "      <td>441956</td>\n",
       "    </tr>\n",
       "    <tr>\n",
       "      <th>7159</th>\n",
       "      <td>1</td>\n",
       "      <td>RT @pattonoswalt: Not ominous at all! (He also...</td>\n",
       "      <td>978938</td>\n",
       "    </tr>\n",
       "    <tr>\n",
       "      <th>5644</th>\n",
       "      <td>1</td>\n",
       "      <td>RT @MelissaJPeltier: In case you forgot about ...</td>\n",
       "      <td>587737</td>\n",
       "    </tr>\n",
       "    <tr>\n",
       "      <th>6732</th>\n",
       "      <td>1</td>\n",
       "      <td>RT @SethMacFarlane: HRC proposes installing ha...</td>\n",
       "      <td>804767</td>\n",
       "    </tr>\n",
       "  </tbody>\n",
       "</table>\n",
       "</div>"
      ],
      "text/plain": [
       "       sentiment                                            message  tweetid\n",
       "11729          1  RT @ubcforestry: Funding from @GenomeBC will s...   977844\n",
       "8308           1  @YadiMoIina gag orders? Sure. He's definitely ...   441956\n",
       "7159           1  RT @pattonoswalt: Not ominous at all! (He also...   978938\n",
       "5644           1  RT @MelissaJPeltier: In case you forgot about ...   587737\n",
       "6732           1  RT @SethMacFarlane: HRC proposes installing ha...   804767"
      ]
     },
     "execution_count": 23,
     "metadata": {},
     "output_type": "execute_result"
    }
   ],
   "source": [
    "df_d.head()"
   ]
  },
  {
   "cell_type": "code",
   "execution_count": 24,
   "metadata": {
    "execution": {
     "iopub.execute_input": "2020-10-16T03:57:22.933315Z",
     "iopub.status.busy": "2020-10-16T03:57:22.932286Z",
     "iopub.status.idle": "2020-10-16T03:57:22.937138Z",
     "shell.execute_reply": "2020-10-16T03:57:22.936475Z"
    },
    "papermill": {
     "duration": 0.045925,
     "end_time": "2020-10-16T03:57:22.937265",
     "exception": false,
     "start_time": "2020-10-16T03:57:22.891340",
     "status": "completed"
    },
    "tags": []
   },
   "outputs": [
    {
     "data": {
      "text/plain": [
       "5184"
      ]
     },
     "execution_count": 24,
     "metadata": {},
     "output_type": "execute_result"
    }
   ],
   "source": [
    "len(df_d) "
   ]
  },
  {
   "cell_type": "code",
   "execution_count": 25,
   "metadata": {
    "execution": {
     "iopub.execute_input": "2020-10-16T03:57:23.016268Z",
     "iopub.status.busy": "2020-10-16T03:57:23.015159Z",
     "iopub.status.idle": "2020-10-16T03:57:23.018350Z",
     "shell.execute_reply": "2020-10-16T03:57:23.017690Z"
    },
    "papermill": {
     "duration": 0.044647,
     "end_time": "2020-10-16T03:57:23.018491",
     "exception": false,
     "start_time": "2020-10-16T03:57:22.973844",
     "status": "completed"
    },
    "tags": []
   },
   "outputs": [],
   "source": [
    "#remove empty strings\n",
    "#blanks_test = []\n",
    "\n",
    "#for i,msg, twid in df_test.itertuples():\n",
    "    #if msg.isspace():\n",
    "        #blanks_test.append(i) #returns index positions for where there is empty string in message col\n"
   ]
  },
  {
   "cell_type": "code",
   "execution_count": 26,
   "metadata": {
    "execution": {
     "iopub.execute_input": "2020-10-16T03:57:23.097677Z",
     "iopub.status.busy": "2020-10-16T03:57:23.096611Z",
     "iopub.status.idle": "2020-10-16T03:57:23.100054Z",
     "shell.execute_reply": "2020-10-16T03:57:23.099472Z"
    },
    "papermill": {
     "duration": 0.044918,
     "end_time": "2020-10-16T03:57:23.100184",
     "exception": false,
     "start_time": "2020-10-16T03:57:23.055266",
     "status": "completed"
    },
    "tags": []
   },
   "outputs": [],
   "source": [
    "#blanks_test"
   ]
  },
  {
   "cell_type": "code",
   "execution_count": 27,
   "metadata": {
    "execution": {
     "iopub.execute_input": "2020-10-16T03:57:23.178784Z",
     "iopub.status.busy": "2020-10-16T03:57:23.177792Z",
     "iopub.status.idle": "2020-10-16T03:57:23.180214Z",
     "shell.execute_reply": "2020-10-16T03:57:23.180783Z"
    },
    "papermill": {
     "duration": 0.044223,
     "end_time": "2020-10-16T03:57:23.180978",
     "exception": false,
     "start_time": "2020-10-16T03:57:23.136755",
     "status": "completed"
    },
    "tags": []
   },
   "outputs": [],
   "source": [
    "#df_test.drop(blanks_test, inplace = True)"
   ]
  },
  {
   "cell_type": "markdown",
   "metadata": {
    "papermill": {
     "duration": 0.037239,
     "end_time": "2020-10-16T03:57:23.255168",
     "exception": false,
     "start_time": "2020-10-16T03:57:23.217929",
     "status": "completed"
    },
    "tags": []
   },
   "source": [
    "# **Modelling**"
   ]
  },
  {
   "cell_type": "code",
   "execution_count": 28,
   "metadata": {
    "execution": {
     "iopub.execute_input": "2020-10-16T03:57:23.334903Z",
     "iopub.status.busy": "2020-10-16T03:57:23.333842Z",
     "iopub.status.idle": "2020-10-16T03:57:23.337050Z",
     "shell.execute_reply": "2020-10-16T03:57:23.336310Z"
    },
    "papermill": {
     "duration": 0.044817,
     "end_time": "2020-10-16T03:57:23.337181",
     "exception": false,
     "start_time": "2020-10-16T03:57:23.292364",
     "status": "completed"
    },
    "tags": []
   },
   "outputs": [],
   "source": [
    "from sklearn.model_selection import train_test_split"
   ]
  },
  {
   "cell_type": "code",
   "execution_count": 29,
   "metadata": {
    "execution": {
     "iopub.execute_input": "2020-10-16T03:57:23.418156Z",
     "iopub.status.busy": "2020-10-16T03:57:23.417047Z",
     "iopub.status.idle": "2020-10-16T03:57:23.420161Z",
     "shell.execute_reply": "2020-10-16T03:57:23.419406Z"
    },
    "papermill": {
     "duration": 0.045902,
     "end_time": "2020-10-16T03:57:23.420286",
     "exception": false,
     "start_time": "2020-10-16T03:57:23.374384",
     "status": "completed"
    },
    "tags": []
   },
   "outputs": [],
   "source": [
    "X = df_d['message']\n",
    "y = df_d['sentiment']"
   ]
  },
  {
   "cell_type": "code",
   "execution_count": 30,
   "metadata": {
    "execution": {
     "iopub.execute_input": "2020-10-16T03:57:23.502367Z",
     "iopub.status.busy": "2020-10-16T03:57:23.501403Z",
     "iopub.status.idle": "2020-10-16T03:57:23.505454Z",
     "shell.execute_reply": "2020-10-16T03:57:23.506001Z"
    },
    "papermill": {
     "duration": 0.048283,
     "end_time": "2020-10-16T03:57:23.506166",
     "exception": false,
     "start_time": "2020-10-16T03:57:23.457883",
     "status": "completed"
    },
    "tags": []
   },
   "outputs": [
    {
     "data": {
      "text/plain": [
       "(5184,)"
      ]
     },
     "execution_count": 30,
     "metadata": {},
     "output_type": "execute_result"
    }
   ],
   "source": [
    "X.shape"
   ]
  },
  {
   "cell_type": "code",
   "execution_count": 31,
   "metadata": {
    "execution": {
     "iopub.execute_input": "2020-10-16T03:57:23.632707Z",
     "iopub.status.busy": "2020-10-16T03:57:23.612034Z",
     "iopub.status.idle": "2020-10-16T03:57:23.948566Z",
     "shell.execute_reply": "2020-10-16T03:57:23.947881Z"
    },
    "papermill": {
     "duration": 0.404528,
     "end_time": "2020-10-16T03:57:23.948704",
     "exception": false,
     "start_time": "2020-10-16T03:57:23.544176",
     "status": "completed"
    },
    "tags": []
   },
   "outputs": [],
   "source": [
    "vectorizer = TfidfVectorizer(ngram_range=(1,2), min_df=2, stop_words=\"english\")\n",
    "X_vectorized = vectorizer.fit_transform(X)"
   ]
  },
  {
   "cell_type": "code",
   "execution_count": 32,
   "metadata": {
    "execution": {
     "iopub.execute_input": "2020-10-16T03:57:24.031667Z",
     "iopub.status.busy": "2020-10-16T03:57:24.030897Z",
     "iopub.status.idle": "2020-10-16T03:57:24.042107Z",
     "shell.execute_reply": "2020-10-16T03:57:24.041444Z"
    },
    "papermill": {
     "duration": 0.055377,
     "end_time": "2020-10-16T03:57:24.042236",
     "exception": false,
     "start_time": "2020-10-16T03:57:23.986859",
     "status": "completed"
    },
    "tags": []
   },
   "outputs": [],
   "source": [
    "X_train, X_val, y_train, y_val = train_test_split(X_vectorized, y,test_size=0.3, shuffle=True, stratify=y, random_state =17)"
   ]
  },
  {
   "cell_type": "code",
   "execution_count": 33,
   "metadata": {
    "execution": {
     "iopub.execute_input": "2020-10-16T03:57:24.124254Z",
     "iopub.status.busy": "2020-10-16T03:57:24.123482Z",
     "iopub.status.idle": "2020-10-16T03:57:24.128546Z",
     "shell.execute_reply": "2020-10-16T03:57:24.127838Z"
    },
    "papermill": {
     "duration": 0.048334,
     "end_time": "2020-10-16T03:57:24.128689",
     "exception": false,
     "start_time": "2020-10-16T03:57:24.080355",
     "status": "completed"
    },
    "tags": []
   },
   "outputs": [],
   "source": [
    "from sklearn.pipeline import Pipeline\n",
    "from sklearn.feature_extraction.text import TfidfVectorizer\n",
    "from sklearn.svm import LinearSVC"
   ]
  },
  {
   "cell_type": "code",
   "execution_count": 34,
   "metadata": {
    "execution": {
     "iopub.execute_input": "2020-10-16T03:57:24.211270Z",
     "iopub.status.busy": "2020-10-16T03:57:24.210483Z",
     "iopub.status.idle": "2020-10-16T03:57:24.213779Z",
     "shell.execute_reply": "2020-10-16T03:57:24.213193Z"
    },
    "papermill": {
     "duration": 0.0469,
     "end_time": "2020-10-16T03:57:24.213938",
     "exception": false,
     "start_time": "2020-10-16T03:57:24.167038",
     "status": "completed"
    },
    "tags": []
   },
   "outputs": [],
   "source": [
    "text_clf = Pipeline([('clf', LinearSVC())])"
   ]
  },
  {
   "cell_type": "code",
   "execution_count": 35,
   "metadata": {
    "execution": {
     "iopub.execute_input": "2020-10-16T03:57:24.298110Z",
     "iopub.status.busy": "2020-10-16T03:57:24.297346Z",
     "iopub.status.idle": "2020-10-16T03:57:24.374849Z",
     "shell.execute_reply": "2020-10-16T03:57:24.374121Z"
    },
    "papermill": {
     "duration": 0.121754,
     "end_time": "2020-10-16T03:57:24.374974",
     "exception": false,
     "start_time": "2020-10-16T03:57:24.253220",
     "status": "completed"
    },
    "tags": []
   },
   "outputs": [
    {
     "data": {
      "text/plain": [
       "Pipeline(steps=[('clf', LinearSVC())])"
      ]
     },
     "execution_count": 35,
     "metadata": {},
     "output_type": "execute_result"
    }
   ],
   "source": [
    "text_clf.fit(X_train, y_train)"
   ]
  },
  {
   "cell_type": "code",
   "execution_count": 36,
   "metadata": {
    "execution": {
     "iopub.execute_input": "2020-10-16T03:57:24.460317Z",
     "iopub.status.busy": "2020-10-16T03:57:24.459505Z",
     "iopub.status.idle": "2020-10-16T03:57:24.463074Z",
     "shell.execute_reply": "2020-10-16T03:57:24.462483Z"
    },
    "papermill": {
     "duration": 0.048314,
     "end_time": "2020-10-16T03:57:24.463233",
     "exception": false,
     "start_time": "2020-10-16T03:57:24.414919",
     "status": "completed"
    },
    "tags": []
   },
   "outputs": [],
   "source": [
    "predictions = text_clf.predict(X_val)"
   ]
  },
  {
   "cell_type": "code",
   "execution_count": 37,
   "metadata": {
    "execution": {
     "iopub.execute_input": "2020-10-16T03:57:24.558837Z",
     "iopub.status.busy": "2020-10-16T03:57:24.557721Z",
     "iopub.status.idle": "2020-10-16T03:57:24.564686Z",
     "shell.execute_reply": "2020-10-16T03:57:24.563887Z"
    },
    "papermill": {
     "duration": 0.059847,
     "end_time": "2020-10-16T03:57:24.564871",
     "exception": false,
     "start_time": "2020-10-16T03:57:24.505024",
     "status": "completed"
    },
    "tags": []
   },
   "outputs": [
    {
     "data": {
      "text/plain": [
       "array([ 2,  2,  0, ..., -1,  0,  1])"
      ]
     },
     "execution_count": 37,
     "metadata": {},
     "output_type": "execute_result"
    }
   ],
   "source": [
    "predictions"
   ]
  },
  {
   "cell_type": "code",
   "execution_count": 58,
   "metadata": {},
   "outputs": [
    {
     "data": {
      "text/plain": [
       "numpy.ndarray"
      ]
     },
     "execution_count": 58,
     "metadata": {},
     "output_type": "execute_result"
    }
   ],
   "source": [
    "type(predictions)"
   ]
  },
  {
   "cell_type": "markdown",
   "metadata": {
    "papermill": {
     "duration": 0.044166,
     "end_time": "2020-10-16T03:57:24.658499",
     "exception": false,
     "start_time": "2020-10-16T03:57:24.614333",
     "status": "completed"
    },
    "tags": []
   },
   "source": [
    "# Checking the performance of our model on the validation set"
   ]
  },
  {
   "cell_type": "code",
   "execution_count": 61,
   "metadata": {},
   "outputs": [
    {
     "name": "stdout",
     "output_type": "stream",
     "text": [
      "       actual  predicted\n",
      "13589       2          2\n",
      "5151        2          2\n",
      "4744        0          0\n",
      "6646        1          1\n",
      "2627       -1         -1\n",
      "...       ...        ...\n",
      "12413       1          1\n",
      "600         2          2\n",
      "14136      -1         -1\n",
      "6867        2          0\n",
      "6498        1          1\n",
      "\n",
      "[1556 rows x 2 columns]\n"
     ]
    }
   ],
   "source": [
    "datas = {'actual': y_val, 'predicted':predictions}\n",
    "\n",
    "dfnew = pd.DataFrame(datas, columns = ['actual', 'predicted'])\n",
    "print(dfnew)"
   ]
  },
  {
   "cell_type": "code",
   "execution_count": 63,
   "metadata": {},
   "outputs": [
    {
     "name": "stdout",
     "output_type": "stream",
     "text": [
      "Predicted   -1    0    1    2\n",
      "Actual                       \n",
      "-1         276   65   28   20\n",
      " 0          63  213   78   35\n",
      " 1          42   74  201   72\n",
      " 2           8   20   57  304\n"
     ]
    }
   ],
   "source": [
    "con_matrix = pd.crosstab(dfnew['actual'], dfnew['predicted'], rownames=['Actual'], colnames=['Predicted'])\n",
    "print (con_matrix)"
   ]
  },
  {
   "cell_type": "code",
   "execution_count": 64,
   "metadata": {},
   "outputs": [
    {
     "data": {
      "text/plain": [
       "<AxesSubplot:xlabel='Predicted', ylabel='Actual'>"
      ]
     },
     "execution_count": 64,
     "metadata": {},
     "output_type": "execute_result"
    },
    {
     "data": {
      "image/png": "[encoded data removed]",
      "text/plain": [
       "<Figure size 720x576 with 2 Axes>"
      ]
     },
     "metadata": {
      "needs_background": "light"
     },
     "output_type": "display_data"
    }
   ],
   "source": [
    "import seaborn as sns\n",
    "from matplotlib import pyplot as plt\n",
    "\n",
    "plt.figure(figsize=(10,8))\n",
    "sns.heatmap(c_matrix, annot=True, fmt='d')"
   ]
  },
  {
   "cell_type": "code",
   "execution_count": 38,
   "metadata": {
    "execution": {
     "iopub.execute_input": "2020-10-16T03:57:24.746729Z",
     "iopub.status.busy": "2020-10-16T03:57:24.745662Z",
     "iopub.status.idle": "2020-10-16T03:57:24.748301Z",
     "shell.execute_reply": "2020-10-16T03:57:24.748909Z"
    },
    "papermill": {
     "duration": 0.049653,
     "end_time": "2020-10-16T03:57:24.749100",
     "exception": false,
     "start_time": "2020-10-16T03:57:24.699447",
     "status": "completed"
    },
    "tags": []
   },
   "outputs": [],
   "source": [
    "from sklearn.metrics import confusion_matrix, classification_report, accuracy_score"
   ]
  },
  {
   "cell_type": "code",
   "execution_count": 41,
   "metadata": {
    "execution": {
     "iopub.execute_input": "2020-10-16T03:57:25.336197Z",
     "iopub.status.busy": "2020-10-16T03:57:25.335385Z",
     "iopub.status.idle": "2020-10-16T03:57:25.346378Z",
     "shell.execute_reply": "2020-10-16T03:57:25.347027Z"
    },
    "papermill": {
     "duration": 0.059108,
     "end_time": "2020-10-16T03:57:25.347197",
     "exception": false,
     "start_time": "2020-10-16T03:57:25.288089",
     "status": "completed"
    },
    "tags": []
   },
   "outputs": [
    {
     "name": "stdout",
     "output_type": "stream",
     "text": [
      "              precision    recall  f1-score   support\n",
      "\n",
      "          -1       0.71      0.71      0.71       389\n",
      "           0       0.57      0.55      0.56       389\n",
      "           1       0.55      0.52      0.53       389\n",
      "           2       0.71      0.78      0.74       389\n",
      "\n",
      "    accuracy                           0.64      1556\n",
      "   macro avg       0.63      0.64      0.64      1556\n",
      "weighted avg       0.63      0.64      0.64      1556\n",
      "\n"
     ]
    }
   ],
   "source": [
    "print(classification_report(y_val, predictions))"
   ]
  },
  {
   "cell_type": "code",
   "execution_count": 42,
   "metadata": {
    "execution": {
     "iopub.execute_input": "2020-10-16T03:57:25.440758Z",
     "iopub.status.busy": "2020-10-16T03:57:25.439650Z",
     "iopub.status.idle": "2020-10-16T03:57:25.447756Z",
     "shell.execute_reply": "2020-10-16T03:57:25.447150Z"
    },
    "papermill": {
     "duration": 0.056794,
     "end_time": "2020-10-16T03:57:25.447902",
     "exception": false,
     "start_time": "2020-10-16T03:57:25.391108",
     "status": "completed"
    },
    "tags": []
   },
   "outputs": [
    {
     "data": {
      "text/plain": [
       "0.636157318729681"
      ]
     },
     "execution_count": 42,
     "metadata": {},
     "output_type": "execute_result"
    }
   ],
   "source": [
    "f1_score(y_val, predictions, average=\"macro\")"
   ]
  },
  {
   "cell_type": "code",
   "execution_count": 43,
   "metadata": {
    "execution": {
     "iopub.execute_input": "2020-10-16T03:57:25.541271Z",
     "iopub.status.busy": "2020-10-16T03:57:25.540192Z",
     "iopub.status.idle": "2020-10-16T03:57:25.545341Z",
     "shell.execute_reply": "2020-10-16T03:57:25.544678Z"
    },
    "papermill": {
     "duration": 0.053914,
     "end_time": "2020-10-16T03:57:25.545466",
     "exception": false,
     "start_time": "2020-10-16T03:57:25.491552",
     "status": "completed"
    },
    "tags": []
   },
   "outputs": [
    {
     "name": "stdout",
     "output_type": "stream",
     "text": [
      "0.6388174807197944\n"
     ]
    }
   ],
   "source": [
    "print(accuracy_score(y_val, predictions))"
   ]
  },
  {
   "cell_type": "markdown",
   "metadata": {
    "papermill": {
     "duration": 0.044093,
     "end_time": "2020-10-16T03:57:25.634181",
     "exception": false,
     "start_time": "2020-10-16T03:57:25.590088",
     "status": "completed"
    },
    "tags": []
   },
   "source": [
    "**Getting our test set ready**"
   ]
  },
  {
   "cell_type": "code",
   "execution_count": 44,
   "metadata": {
    "execution": {
     "iopub.execute_input": "2020-10-16T03:57:25.748520Z",
     "iopub.status.busy": "2020-10-16T03:57:25.732833Z",
     "iopub.status.idle": "2020-10-16T03:57:26.234066Z",
     "shell.execute_reply": "2020-10-16T03:57:26.233407Z"
    },
    "papermill": {
     "duration": 0.555965,
     "end_time": "2020-10-16T03:57:26.234236",
     "exception": false,
     "start_time": "2020-10-16T03:57:25.678271",
     "status": "completed"
    },
    "tags": []
   },
   "outputs": [],
   "source": [
    "test_x = df_test['message']\n",
    "test_vect = vectorizer.transform(test_x)"
   ]
  },
  {
   "cell_type": "markdown",
   "metadata": {
    "papermill": {
     "duration": 0.044108,
     "end_time": "2020-10-16T03:57:26.323638",
     "exception": false,
     "start_time": "2020-10-16T03:57:26.279530",
     "status": "completed"
    },
    "tags": []
   },
   "source": [
    "**Making predictions on the test set and adding a sentiment column to our original test df**"
   ]
  },
  {
   "cell_type": "code",
   "execution_count": 45,
   "metadata": {
    "execution": {
     "iopub.execute_input": "2020-10-16T03:57:26.419492Z",
     "iopub.status.busy": "2020-10-16T03:57:26.418333Z",
     "iopub.status.idle": "2020-10-16T03:57:26.424130Z",
     "shell.execute_reply": "2020-10-16T03:57:26.423442Z"
    },
    "papermill": {
     "duration": 0.056366,
     "end_time": "2020-10-16T03:57:26.424257",
     "exception": false,
     "start_time": "2020-10-16T03:57:26.367891",
     "status": "completed"
    },
    "tags": []
   },
   "outputs": [],
   "source": [
    "y_pred = text_clf.predict(test_vect)"
   ]
  },
  {
   "cell_type": "code",
   "execution_count": 46,
   "metadata": {
    "execution": {
     "iopub.execute_input": "2020-10-16T03:57:26.519771Z",
     "iopub.status.busy": "2020-10-16T03:57:26.518737Z",
     "iopub.status.idle": "2020-10-16T03:57:26.521349Z",
     "shell.execute_reply": "2020-10-16T03:57:26.521944Z"
    },
    "papermill": {
     "duration": 0.053204,
     "end_time": "2020-10-16T03:57:26.522163",
     "exception": false,
     "start_time": "2020-10-16T03:57:26.468959",
     "status": "completed"
    },
    "tags": []
   },
   "outputs": [],
   "source": [
    "df_test['sentiment'] = y_pred"
   ]
  },
  {
   "cell_type": "code",
   "execution_count": 47,
   "metadata": {
    "execution": {
     "iopub.execute_input": "2020-10-16T03:57:26.621510Z",
     "iopub.status.busy": "2020-10-16T03:57:26.620745Z",
     "iopub.status.idle": "2020-10-16T03:57:26.627456Z",
     "shell.execute_reply": "2020-10-16T03:57:26.626730Z"
    },
    "papermill": {
     "duration": 0.060829,
     "end_time": "2020-10-16T03:57:26.627582",
     "exception": false,
     "start_time": "2020-10-16T03:57:26.566753",
     "status": "completed"
    },
    "tags": []
   },
   "outputs": [
    {
     "data": {
      "text/html": [
       "<div>\n",
       "<style scoped>\n",
       "    .dataframe tbody tr th:only-of-type {\n",
       "        vertical-align: middle;\n",
       "    }\n",
       "\n",
       "    .dataframe tbody tr th {\n",
       "        vertical-align: top;\n",
       "    }\n",
       "\n",
       "    .dataframe thead th {\n",
       "        text-align: right;\n",
       "    }\n",
       "</style>\n",
       "<table border=\"1\" class=\"dataframe\">\n",
       "  <thead>\n",
       "    <tr style=\"text-align: right;\">\n",
       "      <th></th>\n",
       "      <th>message</th>\n",
       "      <th>tweetid</th>\n",
       "      <th>sentiment</th>\n",
       "    </tr>\n",
       "  </thead>\n",
       "  <tbody>\n",
       "    <tr>\n",
       "      <th>0</th>\n",
       "      <td>Europe will now be looking to China to make su...</td>\n",
       "      <td>169760</td>\n",
       "      <td>2</td>\n",
       "    </tr>\n",
       "    <tr>\n",
       "      <th>1</th>\n",
       "      <td>Combine this with the polling of staffers re c...</td>\n",
       "      <td>35326</td>\n",
       "      <td>1</td>\n",
       "    </tr>\n",
       "    <tr>\n",
       "      <th>2</th>\n",
       "      <td>The scary, unimpeachable evidence that climate...</td>\n",
       "      <td>224985</td>\n",
       "      <td>0</td>\n",
       "    </tr>\n",
       "    <tr>\n",
       "      <th>3</th>\n",
       "      <td>@Karoli @morgfair @OsborneInk @dailykos \\nPuti...</td>\n",
       "      <td>476263</td>\n",
       "      <td>0</td>\n",
       "    </tr>\n",
       "    <tr>\n",
       "      <th>4</th>\n",
       "      <td>RT @FakeWillMoore: 'Female orgasms cause globa...</td>\n",
       "      <td>872928</td>\n",
       "      <td>0</td>\n",
       "    </tr>\n",
       "  </tbody>\n",
       "</table>\n",
       "</div>"
      ],
      "text/plain": [
       "                                             message  tweetid  sentiment\n",
       "0  Europe will now be looking to China to make su...   169760          2\n",
       "1  Combine this with the polling of staffers re c...    35326          1\n",
       "2  The scary, unimpeachable evidence that climate...   224985          0\n",
       "3  @Karoli @morgfair @OsborneInk @dailykos \\nPuti...   476263          0\n",
       "4  RT @FakeWillMoore: 'Female orgasms cause globa...   872928          0"
      ]
     },
     "execution_count": 47,
     "metadata": {},
     "output_type": "execute_result"
    }
   ],
   "source": [
    "df_test.head()"
   ]
  },
  {
   "cell_type": "code",
   "execution_count": 48,
   "metadata": {
    "execution": {
     "iopub.execute_input": "2020-10-16T03:57:26.724280Z",
     "iopub.status.busy": "2020-10-16T03:57:26.723196Z",
     "iopub.status.idle": "2020-10-16T03:57:26.727507Z",
     "shell.execute_reply": "2020-10-16T03:57:26.726869Z"
    },
    "papermill": {
     "duration": 0.05485,
     "end_time": "2020-10-16T03:57:26.727634",
     "exception": false,
     "start_time": "2020-10-16T03:57:26.672784",
     "status": "completed"
    },
    "tags": []
   },
   "outputs": [
    {
     "data": {
      "text/plain": [
       "'The scary, unimpeachable evidence that climate change is already here: https://t.co/yAedqcV9Ki #itstimetochange #climatechange @ZEROCO2_;..'"
      ]
     },
     "execution_count": 48,
     "metadata": {},
     "output_type": "execute_result"
    }
   ],
   "source": [
    "df_test['message'].iloc[2]"
   ]
  },
  {
   "cell_type": "markdown",
   "metadata": {
    "papermill": {
     "duration": 0.045555,
     "end_time": "2020-10-16T03:57:26.819219",
     "exception": false,
     "start_time": "2020-10-16T03:57:26.773664",
     "status": "completed"
    },
    "tags": []
   },
   "source": [
    "**Creating an output csv for submission**"
   ]
  },
  {
   "cell_type": "code",
   "execution_count": 49,
   "metadata": {
    "execution": {
     "iopub.execute_input": "2020-10-16T03:57:26.919159Z",
     "iopub.status.busy": "2020-10-16T03:57:26.917932Z",
     "iopub.status.idle": "2020-10-16T03:57:27.221068Z",
     "shell.execute_reply": "2020-10-16T03:57:27.220430Z"
    },
    "papermill": {
     "duration": 0.356011,
     "end_time": "2020-10-16T03:57:27.221202",
     "exception": false,
     "start_time": "2020-10-16T03:57:26.865191",
     "status": "completed"
    },
    "tags": []
   },
   "outputs": [],
   "source": [
    "df_test[['tweetid','sentiment']].to_csv('testsubmission_SVC_2.csv', index=False)"
   ]
  }
 ],
 "metadata": {
  "kernelspec": {
   "display_name": "Python 3",
   "language": "python",
   "name": "python3"
  },
  "language_info": {
   "codemirror_mode": {
    "name": "ipython",
    "version": 3
   },
   "file_extension": ".py",
   "mimetype": "text/x-python",
   "name": "python",
   "nbconvert_exporter": "python",
   "pygments_lexer": "ipython3",
   "version": "3.8.5"
  },
  "papermill": {
   "duration": 12.454506,
   "end_time": "2020-10-16T03:57:27.376689",
   "environment_variables": {},
   "exception": null,
   "input_path": "__notebook__.ipynb",
   "output_path": "__notebook__.ipynb",
   "parameters": {},
   "start_time": "2020-10-16T03:57:14.922183",
   "version": "2.1.0"
  }
 },
 "nbformat": 4,
 "nbformat_minor": 4
}
